{
 "cells": [
  {
   "cell_type": "code",
   "execution_count": 46,
   "id": "75db6dd2",
   "metadata": {},
   "outputs": [],
   "source": [
    "St = 0\n",
    "Mo = 0\n",
    "Fa = 0\n",
    "\n",
    "discount = 0.2\n",
    "\n",
    "A = 0.57\n",
    "B = 0.43\n",
    "C = 0.10\n",
    "D = 0.90\n",
    "E = 0.83\n",
    "F = 0.17"
   ]
  },
  {
   "cell_type": "code",
   "execution_count": 57,
   "id": "c55f5dac",
   "metadata": {},
   "outputs": [
    {
     "name": "stdout",
     "output_type": "stream",
     "text": [
      "iteration 0 : 1.0 1.49 -0.8\n",
      "iteration 1 : 1.298 1.71014 -0.9240000000000003\n",
      "iteration 2 : 1.342028 1.7424672399999999 -0.9403600000000001\n",
      "iteration 3 : 1.348493448 1.74727732184 -0.94242424\n",
      "iteration 4 : 1.349455464368 1.7480056112654399 -0.94266649424\n"
     ]
    }
   ],
   "source": [
    "iters = 5\n",
    "St = 0\n",
    "Mo = 0\n",
    "Fa = 0\n",
    "\n",
    "for i in range(iters):\n",
    "    \n",
    "\n",
    "    standing = (1*(1+(discount*Mo)), A*(2+(discount*Mo))+B*(-1+(discount*Fa)))\n",
    "    moving = (1*(1+(discount*Mo)), E*(2+(discount*Mo))+F*(-1+(discount*Fa)))\n",
    "    fallen = C*(1+(discount*St))+D*(-1+(discount*Fa))\n",
    "\n",
    "    print(\"iteration\",i,\":\", max(standing),max(moving),fallen)\n",
    "\n",
    "    St = max(standing)\n",
    "    Mo = max(moving)\n",
    "    Fa = fallen"
   ]
  },
  {
   "cell_type": "code",
   "execution_count": null,
   "id": "5a2c53c3",
   "metadata": {},
   "outputs": [],
   "source": []
  },
  {
   "cell_type": "code",
   "execution_count": null,
   "id": "49edf859",
   "metadata": {},
   "outputs": [],
   "source": []
  },
  {
   "cell_type": "code",
   "execution_count": 50,
   "id": "2ddb8ed6",
   "metadata": {},
   "outputs": [
    {
     "data": {
      "text/plain": [
       "1.3098599999999998"
      ]
     },
     "execution_count": 50,
     "metadata": {},
     "output_type": "execute_result"
    }
   ],
   "source": []
  },
  {
   "cell_type": "code",
   "execution_count": 51,
   "id": "0b93ce2e",
   "metadata": {},
   "outputs": [
    {
     "data": {
      "text/plain": [
       "-0.4988000000000001"
      ]
     },
     "execution_count": 51,
     "metadata": {},
     "output_type": "execute_result"
    }
   ],
   "source": []
  },
  {
   "cell_type": "code",
   "execution_count": null,
   "id": "bd214c40",
   "metadata": {},
   "outputs": [],
   "source": []
  }
 ],
 "metadata": {
  "kernelspec": {
   "display_name": "Python 3 (ipykernel)",
   "language": "python",
   "name": "python3"
  },
  "language_info": {
   "codemirror_mode": {
    "name": "ipython",
    "version": 3
   },
   "file_extension": ".py",
   "mimetype": "text/x-python",
   "name": "python",
   "nbconvert_exporter": "python",
   "pygments_lexer": "ipython3",
   "version": "3.7.4"
  }
 },
 "nbformat": 4,
 "nbformat_minor": 5
}
